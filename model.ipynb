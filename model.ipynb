{
 "cells": [
  {
   "cell_type": "code",
   "execution_count": 31,
   "metadata": {},
   "outputs": [],
   "source": [
    "from keras.layers import Conv2D,Dense,Flatten,AveragePooling2D\n",
    "from keras.models import Sequential\n",
    "from keras.utils import to_categorical\n",
    "import numpy as np\n",
    "from keras.losses import categorical_crossentropy\n",
    "import matplotlib.pyplot as plt"
   ]
  },
  {
   "cell_type": "code",
   "execution_count": 14,
   "metadata": {},
   "outputs": [],
   "source": [
    "def readdata(x):\n",
    "    y=x[:,0]\n",
    "    yout=to_categorical(y,num_classes=10)\n",
    "    X=x[:,1:]\n",
    "    num_imgs=x.shape[0]\n",
    "    Xout=X.reshape(num_imgs,28,28,1)\n",
    "    Xout=Xout/255\n",
    "    return Xout,yout"
   ]
  },
  {
   "cell_type": "code",
   "execution_count": 35,
   "metadata": {},
   "outputs": [],
   "source": [
    "def encode_preds(x):\n",
    "    labels=['T-shirt/top','Trouser','Pullover','Dress','Coat','Sandal','Shirt','Sneaker','Bag','Ankle boot ']\n",
    "    return labels[x]"
   ]
  },
  {
   "cell_type": "code",
   "execution_count": 15,
   "metadata": {},
   "outputs": [
    {
     "name": "stdout",
     "output_type": "stream",
     "text": [
      "(60000, 28, 28, 1)\n",
      "(10000, 28, 28, 1)\n"
     ]
    }
   ],
   "source": [
    "traindata=np.loadtxt('data/fashion-mnist_train.csv',skiprows=1,delimiter=',')\n",
    "testdata=np.loadtxt('data/fashion-mnist_test.csv',skiprows=1,delimiter=',')\n",
    "X_train,Y_train=readdata(traindata)\n",
    "X_test,Y_test=readdata(testdata)\n",
    "print(X_train.shape)\n",
    "print(X_test.shape)"
   ]
  },
  {
   "cell_type": "code",
   "execution_count": 67,
   "metadata": {},
   "outputs": [
    {
     "name": "stdout",
     "output_type": "stream",
     "text": [
      "Train on 48000 samples, validate on 12000 samples\n",
      "Epoch 1/5\n",
      "48000/48000 [==============================] - 86s 2ms/step - loss: 0.5145 - acc: 0.8153 - val_loss: 0.3640 - val_acc: 0.8762\n",
      "Epoch 2/5\n",
      "48000/48000 [==============================] - 87s 2ms/step - loss: 0.3267 - acc: 0.8830 - val_loss: 0.3164 - val_acc: 0.8885\n",
      "Epoch 3/5\n",
      "48000/48000 [==============================] - 86s 2ms/step - loss: 0.2780 - acc: 0.8998 - val_loss: 0.2857 - val_acc: 0.9007\n",
      "Epoch 4/5\n",
      "48000/48000 [==============================] - 80s 2ms/step - loss: 0.2422 - acc: 0.9121 - val_loss: 0.2682 - val_acc: 0.9072\n",
      "Epoch 5/5\n",
      "48000/48000 [==============================] - 92s 2ms/step - loss: 0.2116 - acc: 0.9233 - val_loss: 0.2612 - val_acc: 0.9105\n"
     ]
    },
    {
     "data": {
      "text/plain": [
       "<keras.callbacks.History at 0x7fa85bd79748>"
      ]
     },
     "execution_count": 67,
     "metadata": {},
     "output_type": "execute_result"
    }
   ],
   "source": [
    "mymodel=Sequential()\n",
    "mymodel.add(Conv2D(30,kernel_size=(3,3),activation='relu',input_shape=(28,28,1),strides=1))\n",
    "mymodel.add(Conv2D(12,kernel_size=(3,3),activation='relu'))\n",
    "mymodel.add(Conv2D(12,kernel_size=(3,3),activation='relu'))\n",
    "mymodel.add(Flatten())\n",
    "mymodel.add(Dense(100,activation='relu'))\n",
    "mymodel.add(Dense(10,activation='softmax'))\n",
    "mymodel.compile(loss = categorical_crossentropy,optimizer='adam',metrics=['accuracy'])\n",
    "mymodel.fit(X_train,Y_train,batch_size=128,epochs=5,validation_split=0.2)"
   ]
  },
  {
   "cell_type": "code",
   "execution_count": 68,
   "metadata": {},
   "outputs": [],
   "source": [
    "preds=mymodel.predict(X_test)"
   ]
  },
  {
   "cell_type": "code",
   "execution_count": 69,
   "metadata": {},
   "outputs": [
    {
     "name": "stdout",
     "output_type": "stream",
     "text": [
      "Pullover\n",
      "Pullover\n"
     ]
    },
    {
     "data": {
      "image/png": "[encoded data removed]",
      "text/plain": [
       "<matplotlib.figure.Figure at 0x7fa82c0faef0>"
      ]
     },
     "metadata": {},
     "output_type": "display_data"
    }
   ],
   "source": [
    "i=1000\n",
    "print(encode_preds((np.argmax(preds[i]))))\n",
    "plt.imshow(X_test[i,:,:].reshape(28,28))\n",
    "print(encode_preds(np.argmax(Y_test[i])))"
   ]
  },
  {
   "cell_type": "code",
   "execution_count": null,
   "metadata": {},
   "outputs": [],
   "source": []
  }
 ],
 "metadata": {
  "kernelspec": {
   "display_name": "Python 3",
   "language": "python",
   "name": "python3"
  },
  "language_info": {
   "codemirror_mode": {
    "name": "ipython",
    "version": 3
   },
   "file_extension": ".py",
   "mimetype": "text/x-python",
   "name": "python",
   "nbconvert_exporter": "python",
   "pygments_lexer": "ipython3",
   "version": "3.6.5"
  }
 },
 "nbformat": 4,
 "nbformat_minor": 2
}
